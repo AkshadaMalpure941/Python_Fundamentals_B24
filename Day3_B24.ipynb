{
 "cells": [
  {
   "cell_type": "code",
   "execution_count": null,
   "metadata": {},
   "outputs": [],
   "source": [
    "#introduction to f strings"
   ]
  },
  {
   "cell_type": "code",
   "execution_count": 3,
   "metadata": {},
   "outputs": [],
   "source": [
    "first_name= \"tarak\"\n",
    "last_name= \"mehta\""
   ]
  },
  {
   "cell_type": "code",
   "execution_count": 5,
   "metadata": {},
   "outputs": [],
   "source": [
    "#to get full name\n",
    "#x=f\"{placeholder1} {placeholder2}\""
   ]
  },
  {
   "cell_type": "code",
   "execution_count": 14,
   "metadata": {},
   "outputs": [
    {
     "name": "stdout",
     "output_type": "stream",
     "text": [
      "tarak mehta\n",
      "Tarak Mehta\n",
      "TARAK MEHTA\n",
      "tarak mehta\n"
     ]
    }
   ],
   "source": [
    "full_name=f'{first_name} {last_name}'\n",
    "print(full_name)\n",
    "print(full_name.title())\n",
    "print(full_name.upper())\n",
    "print(full_name.lower())"
   ]
  },
  {
   "cell_type": "code",
   "execution_count": 12,
   "metadata": {},
   "outputs": [
    {
     "name": "stdout",
     "output_type": "stream",
     "text": [
      "Hello, tarak mehta\n"
     ]
    }
   ],
   "source": [
    "print(f\"Hello, {first_name} {last_name}\")"
   ]
  },
  {
   "cell_type": "code",
   "execution_count": null,
   "metadata": {},
   "outputs": [],
   "source": [
    "#to add white spaces to strings... using \\n and \\t delimeters"
   ]
  },
  {
   "cell_type": "code",
   "execution_count": 15,
   "metadata": {},
   "outputs": [
    {
     "name": "stdout",
     "output_type": "stream",
     "text": [
      "fav_places:SingaporeAmericaEuropeGermany\n"
     ]
    }
   ],
   "source": [
    "print(\"fav_places:SingaporeAmericaEuropeGermany\")"
   ]
  },
  {
   "cell_type": "code",
   "execution_count": 16,
   "metadata": {},
   "outputs": [
    {
     "name": "stdout",
     "output_type": "stream",
     "text": [
      "fav_places:\n",
      "Singapore\n",
      "America\n",
      "Europe\n",
      "Germany\n"
     ]
    }
   ],
   "source": [
    "print(\"fav_places:\\nSingapore\\nAmerica\\nEurope\\nGermany\")"
   ]
  },
  {
   "cell_type": "code",
   "execution_count": 17,
   "metadata": {},
   "outputs": [
    {
     "name": "stdout",
     "output_type": "stream",
     "text": [
      "fav_places:\n",
      "\tSingapore\n",
      "\tAmerica\n",
      "\tEurope\n",
      "\tGermany\n"
     ]
    }
   ],
   "source": [
    "print(\"fav_places:\\n\\tSingapore\\n\\tAmerica\\n\\tEurope\\n\\tGermany\")"
   ]
  },
  {
   "cell_type": "code",
   "execution_count": null,
   "metadata": {},
   "outputs": [],
   "source": []
  }
 ],
 "metadata": {
  "kernelspec": {
   "display_name": "Python 3",
   "language": "python",
   "name": "python3"
  },
  "language_info": {
   "codemirror_mode": {
    "name": "ipython",
    "version": 3
   },
   "file_extension": ".py",
   "mimetype": "text/x-python",
   "name": "python",
   "nbconvert_exporter": "python",
   "pygments_lexer": "ipython3",
   "version": "3.7.6"
  }
 },
 "nbformat": 4,
 "nbformat_minor": 4
}
