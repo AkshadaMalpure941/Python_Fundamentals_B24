{
 "cells": [
  {
   "cell_type": "code",
   "execution_count": 11,
   "metadata": {},
   "outputs": [],
   "source": [
    "my_students=['abc','def','mno','pqr']"
   ]
  },
  {
   "cell_type": "code",
   "execution_count": 12,
   "metadata": {},
   "outputs": [
    {
     "name": "stdout",
     "output_type": "stream",
     "text": [
      "['abc', 'def', 'mno', 'pqr']\n"
     ]
    }
   ],
   "source": [
    "print(my_students)"
   ]
  },
  {
   "cell_type": "code",
   "execution_count": 13,
   "metadata": {},
   "outputs": [
    {
     "name": "stdout",
     "output_type": "stream",
     "text": [
      "keep up the good work,def\n"
     ]
    }
   ],
   "source": [
    "print(f\"keep up the good work,{my_students[1]}\")"
   ]
  },
  {
   "cell_type": "code",
   "execution_count": 14,
   "metadata": {},
   "outputs": [
    {
     "name": "stdout",
     "output_type": "stream",
     "text": [
      "def\n"
     ]
    }
   ],
   "source": [
    "print(my_students[1])"
   ]
  },
  {
   "cell_type": "code",
   "execution_count": 16,
   "metadata": {},
   "outputs": [],
   "source": [
    "#for loop syntax\n",
    "#for temp_var in main_var:\n",
    "    print(statement)"
   ]
  },
  {
   "cell_type": "code",
   "execution_count": 17,
   "metadata": {},
   "outputs": [],
   "source": [
    "brothers=['aayush','rohit','yash','akash','ankit']"
   ]
  },
  {
   "cell_type": "code",
   "execution_count": 18,
   "metadata": {},
   "outputs": [
    {
     "name": "stdout",
     "output_type": "stream",
     "text": [
      "['aayush', 'rohit', 'yash', 'akash', 'ankit']\n"
     ]
    }
   ],
   "source": [
    "print(brothers)"
   ]
  },
  {
   "cell_type": "code",
   "execution_count": 26,
   "metadata": {},
   "outputs": [
    {
     "name": "stdout",
     "output_type": "stream",
     "text": [
      "Happy Raksha Bandhan dear,Aayush\n",
      "Sending a e-rakhi,please do accept it.\n",
      "\n",
      "Happy Raksha Bandhan dear,Rohit\n",
      "Sending a e-rakhi,please do accept it.\n",
      "\n",
      "Happy Raksha Bandhan dear,Yash\n",
      "Sending a e-rakhi,please do accept it.\n",
      "\n",
      "Happy Raksha Bandhan dear,Akash\n",
      "Sending a e-rakhi,please do accept it.\n",
      "\n",
      "Happy Raksha Bandhan dear,Ankit\n",
      "Sending a e-rakhi,please do accept it.\n",
      "\n"
     ]
    }
   ],
   "source": [
    "for brother in brothers:\n",
    "    print(f\"Happy Raksha Bandhan dear,{brother.title()}\")\n",
    "    print(f\"Sending a e-rakhi,please do accept it.\\n\")"
   ]
  },
  {
   "cell_type": "code",
   "execution_count": null,
   "metadata": {},
   "outputs": [],
   "source": []
  },
  {
   "cell_type": "code",
   "execution_count": null,
   "metadata": {},
   "outputs": [],
   "source": []
  },
  {
   "cell_type": "code",
   "execution_count": null,
   "metadata": {},
   "outputs": [],
   "source": []
  },
  {
   "cell_type": "code",
   "execution_count": null,
   "metadata": {},
   "outputs": [],
   "source": []
  }
 ],
 "metadata": {
  "kernelspec": {
   "display_name": "Python 3",
   "language": "python",
   "name": "python3"
  },
  "language_info": {
   "codemirror_mode": {
    "name": "ipython",
    "version": 3
   },
   "file_extension": ".py",
   "mimetype": "text/x-python",
   "name": "python",
   "nbconvert_exporter": "python",
   "pygments_lexer": "ipython3",
   "version": "3.7.6"
  }
 },
 "nbformat": 4,
 "nbformat_minor": 4
}
